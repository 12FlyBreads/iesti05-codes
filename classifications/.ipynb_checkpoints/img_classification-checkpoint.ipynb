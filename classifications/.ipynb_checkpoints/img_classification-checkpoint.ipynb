{
 "cells": [
  {
   "cell_type": "code",
   "execution_count": 4,
   "id": "065a87be-f6ab-49f1-a4b9-b0e0fca226c7",
   "metadata": {},
   "outputs": [
    {
     "ename": "ModuleNotFoundError",
     "evalue": "No module named 'utils'",
     "output_type": "error",
     "traceback": [
      "\u001b[31m---------------------------------------------------------------------------\u001b[39m",
      "\u001b[31mModuleNotFoundError\u001b[39m                       Traceback (most recent call last)",
      "\u001b[36mCell\u001b[39m\u001b[36m \u001b[39m\u001b[32mIn[4]\u001b[39m\u001b[32m, line 5\u001b[39m\n\u001b[32m      3\u001b[39m \u001b[38;5;28;01mfrom\u001b[39;00m\u001b[38;5;250m \u001b[39m\u001b[34;01mPIL\u001b[39;00m\u001b[38;5;250m \u001b[39m\u001b[38;5;28;01mimport\u001b[39;00m Image\n\u001b[32m      4\u001b[39m \u001b[38;5;28;01mimport\u001b[39;00m\u001b[38;5;250m \u001b[39m\u001b[34;01mmatplotlib\u001b[39;00m\u001b[34;01m.\u001b[39;00m\u001b[34;01mpyplot\u001b[39;00m\u001b[38;5;250m \u001b[39m\u001b[38;5;28;01mas\u001b[39;00m\u001b[38;5;250m \u001b[39m\u001b[34;01mplt\u001b[39;00m\n\u001b[32m----> \u001b[39m\u001b[32m5\u001b[39m \u001b[38;5;28;01mfrom\u001b[39;00m\u001b[38;5;250m \u001b[39m\u001b[34;01mutils\u001b[39;00m\u001b[34;01m.\u001b[39;00m\u001b[34;01mpicam_class\u001b[39;00m\u001b[38;5;250m \u001b[39m\u001b[38;5;28;01mimport\u001b[39;00m Picam\n\u001b[32m      6\u001b[39m \u001b[38;5;28;01mfrom\u001b[39;00m\u001b[38;5;250m \u001b[39m\u001b[34;01mpicamera2\u001b[39;00m\u001b[38;5;250m \u001b[39m\u001b[38;5;28;01mimport\u001b[39;00m Picamera2\n\u001b[32m      7\u001b[39m \u001b[38;5;28;01mimport\u001b[39;00m\u001b[38;5;250m \u001b[39m\u001b[34;01mtflite_runtime\u001b[39;00m\u001b[34;01m.\u001b[39;00m\u001b[34;01minterpreter\u001b[39;00m\u001b[38;5;250m \u001b[39m\u001b[38;5;28;01mas\u001b[39;00m\u001b[38;5;250m \u001b[39m\u001b[34;01mtflite\u001b[39;00m\n",
      "\u001b[31mModuleNotFoundError\u001b[39m: No module named 'utils'"
     ]
    }
   ],
   "source": [
    "import time\n",
    "import numpy as np\n",
    "from PIL import Image\n",
    "import matplotlib.pyplot as plt\n",
    "from utils.picam_class import Picam\n",
    "from picamera2 import Picamera2\n",
    "import tflite_runtime.interpreter as tflite"
   ]
  },
  {
   "cell_type": "code",
   "execution_count": null,
   "id": "03e01b3f-ddf1-441f-821f-8176d34c2b3c",
   "metadata": {},
   "outputs": [],
   "source": [
    "model_path = \"./models/mobilenet_v2_1.0_224_quant.tflite\"\n",
    "interpreter = tflite.Interpreter(model_path=model_path)\n",
    "interpreter.allocate_tensors()"
   ]
  },
  {
   "cell_type": "code",
   "execution_count": null,
   "id": "3a348604-9b45-4bd9-8da5-e3a00d2d23a1",
   "metadata": {},
   "outputs": [],
   "source": [
    "from .utils.picam_class import Picam\n",
    "from picamera2 import Picamera2\n",
    "from PIL import Image\n",
    "import matplotlib.pyplot as plt\n",
    "import cv2\n",
    "import numpy as np\n",
    "import os\n",
    "import time\n",
    "\n",
    "def capture_image():\n",
    "    picam2 = Picam(width=244, height=244)\n",
    "    picam2.capture_image(filename=\"cam_img_test\", show_image=True)\n",
    "    picam2.stop_camera"
   ]
  },
  {
   "cell_type": "code",
   "execution_count": null,
   "id": "0fbb6877-a2a7-4d47-bac1-764426208f4a",
   "metadata": {},
   "outputs": [],
   "source": [
    "def image_classification(img_path, model_path, labels, top_k_results=5):\n",
    "    # load the image\n",
    "    img = Image.open(img_path)\n",
    "    plt.figure(figsize=(4, 4))\n",
    "    plt.imshow(img)\n",
    "    plt.axis('off')\n",
    "\n",
    "    # Load the TFLite model\n",
    "    interpreter = tflite.Interpreter(model_path=model_path)\n",
    "    interpreter.allocate_tensors()\n",
    "    \n",
    "    # Get input and output tensors\n",
    "    input_details = interpreter.get_input_details()\n",
    "    output_details = interpreter.get_output_details()\n",
    "    \n",
    "    # Preprocess\n",
    "    img = img.resize((input_details[0]['shape'][1], \n",
    "                      input_details[0]['shape'][2]))\n",
    "    input_data = np.expand_dims(img, axis=0)\n",
    "    \n",
    "    # Inference on Raspi-Zero\n",
    "    interpreter.set_tensor(input_details[0]['index'], input_data)\n",
    "    interpreter.invoke()\n",
    "    \n",
    "    # Obtain results and map them to the classes\n",
    "    predictions = interpreter.get_tensor(output_details[0]['index'])[0]\n",
    "    \n",
    "    # Get indices of the top k results\n",
    "    top_k_indices = np.argsort(predictions)[::-1][:top_k_results]\n",
    "    \n",
    "    # Get quantization parameters\n",
    "    scale, zero_point = output_details[0]['quantization']\n",
    "    \n",
    "    # Dequantize the output and apply softmax\n",
    "    dequantized_output = (predictions.astype(np.float32) - zero_point) * scale\n",
    "    exp_output = np.exp(dequantized_output - np.max(dequantized_output))\n",
    "    probabilities = exp_output / np.sum(exp_output)\n",
    "    \n",
    "    print(\"\\n\\t[PREDICTION]        [Prob]\\n\")\n",
    "    for i in range(top_k_results):\n",
    "        print(\"\\t{:20}: {}%\".format(\n",
    "            labels[top_k_indices[i]],\n",
    "            (int(probabilities[top_k_indices[i]]*100))))"
   ]
  },
  {
   "cell_type": "code",
   "execution_count": null,
   "id": "ac1ff439-66bf-47c0-b9a2-fcc81e2acfe8",
   "metadata": {},
   "outputs": [],
   "source": [
    "img_path = '../images/cam_img_test.jpg'\n",
    "model_path = \"./models/mobilenet_v2_1.0_224_quant.tflite\"\n",
    "labels = load_labels(\"./models/labels.txt\")\n",
    "capture_image()\n",
    "image_classification(img_path, model_path, labels, top_k_results=5)"
   ]
  },
  {
   "cell_type": "code",
   "execution_count": null,
   "id": "e69fc0ce-c0a7-4ab5-a71c-315957c5deba",
   "metadata": {},
   "outputs": [],
   "source": []
  }
 ],
 "metadata": {
  "kernelspec": {
   "display_name": "Python 3 (ipykernel)",
   "language": "python",
   "name": "python3"
  },
  "language_info": {
   "codemirror_mode": {
    "name": "ipython",
    "version": 3
   },
   "file_extension": ".py",
   "mimetype": "text/x-python",
   "name": "python",
   "nbconvert_exporter": "python",
   "pygments_lexer": "ipython3",
   "version": "3.11.2"
  }
 },
 "nbformat": 4,
 "nbformat_minor": 5
}
